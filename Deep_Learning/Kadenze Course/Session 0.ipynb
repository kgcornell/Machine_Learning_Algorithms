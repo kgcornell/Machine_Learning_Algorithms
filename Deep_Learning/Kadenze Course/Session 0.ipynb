{
 "cells": [
  {
   "cell_type": "markdown",
   "metadata": {
    "collapsed": true
   },
   "source": [
    "# Session 0 - Playing with images in Python"
   ]
  },
  {
   "cell_type": "markdown",
   "metadata": {},
   "source": [
    "Goal will be to understand how to load images from a directory, resize and crop those images and change the image datatype"
   ]
  },
  {
   "cell_type": "code",
   "execution_count": 1,
   "metadata": {
    "collapsed": true
   },
   "outputs": [],
   "source": [
    "# Load the os library\n",
    "import os\n",
    "# Load the request module\n",
    "import urllib\n",
    "# Import SSL which we need to setup for talking to the HTTPS server\n",
    "import ssl\n",
    "ssl._create_default_https_context = ssl._create_unverified_context"
   ]
  },
  {
   "cell_type": "code",
   "execution_count": 2,
   "metadata": {
    "collapsed": true
   },
   "outputs": [],
   "source": [
    "# Create a directory\n",
    "os.mkdir('img_align_celeba')"
   ]
  },
  {
   "cell_type": "code",
   "execution_count": 3,
   "metadata": {},
   "outputs": [
    {
     "name": "stdout",
     "output_type": "stream",
     "text": [
      "https://s3.amazonaws.com/cadl/celeb-align/000010.jpg\r"
     ]
    }
   ],
   "source": [
    "# Now perform the following 10 times:\n",
    "for img_i in range(1,11):\n",
    "    \n",
    "    # create a string using the current loop counter\n",
    "    f = '000%03d.jpg' % img_i\n",
    "    \n",
    "    # and get the url with that string appended the end\n",
    "    url = 'https://s3.amazonaws.com/cadl/celeb-align/' + f\n",
    "    \n",
    "    # We'll print this out to the console so we can see how far we've gone\n",
    "    print(url, end='\\r')\n",
    "    \n",
    "    # And now download the url to a location inside our new directory\n",
    "    urllib.request.urlretrieve(url, os.path.join('img_align_celeba',f))"
   ]
  },
  {
   "cell_type": "markdown",
   "metadata": {},
   "source": [
    "Using the os package, we can list an entire directory. The documentation says that listdir takes one parameter, path:"
   ]
  },
  {
   "cell_type": "code",
   "execution_count": 4,
   "metadata": {},
   "outputs": [
    {
     "name": "stdout",
     "output_type": "stream",
     "text": [
      "Help on built-in function listdir in module nt:\n",
      "\n",
      "listdir(path=None)\n",
      "    Return a list containing the names of the files in the directory.\n",
      "    \n",
      "    path can be specified as either str or bytes.  If path is bytes,\n",
      "      the filenames returned will also be bytes; in all other circumstances\n",
      "      the filenames returned will be str.\n",
      "    If path is None, uses the path='.'.\n",
      "    On some platforms, path may also be specified as an open file descriptor;\\\n",
      "      the file descriptor must refer to a directory.\n",
      "      If this functionality is unavailable, using it raises NotImplementedError.\n",
      "    \n",
      "    The list is in arbitrary order.  It does not include the special\n",
      "    entries '.' and '..' even if they are present in the directory.\n",
      "\n"
     ]
    }
   ],
   "source": [
    "help(os.listdir)"
   ]
  },
  {
   "cell_type": "markdown",
   "metadata": {},
   "source": [
    "This is the location of the directory we need to list. Let's save it to a variable so that we can easily inspect the directory of images we just downloaded:"
   ]
  },
  {
   "cell_type": "code",
   "execution_count": 5,
   "metadata": {
    "collapsed": true
   },
   "outputs": [],
   "source": [
    "files = os.listdir('img_align_celeba')"
   ]
  },
  {
   "cell_type": "markdown",
   "metadata": {},
   "source": [
    "We can also specify to include only certain files:"
   ]
  },
  {
   "cell_type": "code",
   "execution_count": 6,
   "metadata": {},
   "outputs": [
    {
     "data": {
      "text/plain": [
       "['000001.jpg',\n",
       " '000002.jpg',\n",
       " '000003.jpg',\n",
       " '000004.jpg',\n",
       " '000005.jpg',\n",
       " '000006.jpg',\n",
       " '000007.jpg',\n",
       " '000008.jpg',\n",
       " '000009.jpg',\n",
       " '000010.jpg']"
      ]
     },
     "execution_count": 6,
     "metadata": {},
     "output_type": "execute_result"
    }
   ],
   "source": [
    "[file_i for file_i in os.listdir('img_align_celeba') if '.jpg' in file_i]"
   ]
  },
  {
   "cell_type": "markdown",
   "metadata": {},
   "source": [
    "or even:"
   ]
  },
  {
   "cell_type": "code",
   "execution_count": 7,
   "metadata": {},
   "outputs": [
    {
     "data": {
      "text/plain": [
       "['000001.jpg',\n",
       " '000002.jpg',\n",
       " '000003.jpg',\n",
       " '000004.jpg',\n",
       " '000005.jpg',\n",
       " '000006.jpg',\n",
       " '000007.jpg',\n",
       " '000008.jpg',\n",
       " '000009.jpg']"
      ]
     },
     "execution_count": 7,
     "metadata": {},
     "output_type": "execute_result"
    }
   ],
   "source": [
    "[file_i for file_i in os.listdir('img_align_celeba')\n",
    "if '.jpg' in file_i and '00000' in file_i]"
   ]
  },
  {
   "cell_type": "markdown",
   "metadata": {},
   "source": [
    "We could also combine file types if we happened to have multiple types:"
   ]
  },
  {
   "cell_type": "code",
   "execution_count": 8,
   "metadata": {},
   "outputs": [
    {
     "data": {
      "text/plain": [
       "['000001.jpg',\n",
       " '000002.jpg',\n",
       " '000003.jpg',\n",
       " '000004.jpg',\n",
       " '000005.jpg',\n",
       " '000006.jpg',\n",
       " '000007.jpg',\n",
       " '000008.jpg',\n",
       " '000009.jpg',\n",
       " '000010.jpg']"
      ]
     },
     "execution_count": 8,
     "metadata": {},
     "output_type": "execute_result"
    }
   ],
   "source": [
    "[file_i for file_i in os.listdir('img_align_celeba')\n",
    "if '.jpg' in file_i or '.png' in file_i or '.jpeg' in file_i]"
   ]
  },
  {
   "cell_type": "markdown",
   "metadata": {},
   "source": [
    "Let's set this list to a variable, so we can perform further actions on it:"
   ]
  },
  {
   "cell_type": "code",
   "execution_count": 9,
   "metadata": {
    "collapsed": true
   },
   "outputs": [],
   "source": [
    "files = [file_i\n",
    "         for file_i in os.listdir('img_align_celeba')\n",
    "        if file_i.endswith('.jpg')]"
   ]
  },
  {
   "cell_type": "markdown",
   "metadata": {},
   "source": [
    "And now we can index that list using square brackets:"
   ]
  },
  {
   "cell_type": "code",
   "execution_count": 10,
   "metadata": {},
   "outputs": [
    {
     "name": "stdout",
     "output_type": "stream",
     "text": [
      "000001.jpg\n",
      "000002.jpg\n"
     ]
    }
   ],
   "source": [
    "print(files[0])\n",
    "print(files[1])"
   ]
  },
  {
   "cell_type": "markdown",
   "metadata": {},
   "source": [
    "We can even go in the reverse direction, which wraps around to the end of the list:"
   ]
  },
  {
   "cell_type": "code",
   "execution_count": 11,
   "metadata": {},
   "outputs": [
    {
     "name": "stdout",
     "output_type": "stream",
     "text": [
      "000010.jpg\n",
      "000009.jpg\n"
     ]
    }
   ],
   "source": [
    "print(files[-1])\n",
    "print(files[-2])"
   ]
  },
  {
   "cell_type": "markdown",
   "metadata": {},
   "source": [
    "## Loading an image"
   ]
  },
  {
   "cell_type": "markdown",
   "metadata": {},
   "source": [
    "matplotlib let's us play with visualization and loading of image data."
   ]
  },
  {
   "cell_type": "code",
   "execution_count": 12,
   "metadata": {
    "collapsed": true
   },
   "outputs": [],
   "source": [
    "import matplotlib.pyplot as plt\n",
    "%matplotlib inline"
   ]
  },
  {
   "cell_type": "code",
   "execution_count": 13,
   "metadata": {
    "collapsed": true
   },
   "outputs": [],
   "source": [
    "plt.imread?"
   ]
  },
  {
   "cell_type": "code",
   "execution_count": 14,
   "metadata": {
    "collapsed": true
   },
   "outputs": [],
   "source": [
    "import numpy as np"
   ]
  },
  {
   "cell_type": "markdown",
   "metadata": {},
   "source": [
    "We can tell plt.imread where the file is by using os.path.join"
   ]
  },
  {
   "cell_type": "code",
   "execution_count": 19,
   "metadata": {},
   "outputs": [
    {
     "ename": "ImportError",
     "evalue": "DLL load failed: The specified module could not be found.",
     "output_type": "error",
     "traceback": [
      "\u001b[1;31m---------------------------------------------------------------------------\u001b[0m",
      "\u001b[1;31mImportError\u001b[0m                               Traceback (most recent call last)",
      "\u001b[1;32m<ipython-input-19-720afedd56b7>\u001b[0m in \u001b[0;36m<module>\u001b[1;34m()\u001b[0m\n\u001b[0;32m      1\u001b[0m \u001b[1;32mimport\u001b[0m \u001b[0mPIL\u001b[0m\u001b[1;33m\u001b[0m\u001b[0m\n\u001b[1;32m----> 2\u001b[1;33m \u001b[1;32mfrom\u001b[0m \u001b[0mPIL\u001b[0m \u001b[1;32mimport\u001b[0m \u001b[0mImage\u001b[0m\u001b[1;33m\u001b[0m\u001b[0m\n\u001b[0m",
      "\u001b[1;32m~\\Anaconda3\\lib\\site-packages\\PIL\\Image.py\u001b[0m in \u001b[0;36m<module>\u001b[1;34m()\u001b[0m\n\u001b[0;32m     56\u001b[0m     \u001b[1;31m# Also note that Image.core is not a publicly documented interface,\u001b[0m\u001b[1;33m\u001b[0m\u001b[1;33m\u001b[0m\u001b[0m\n\u001b[0;32m     57\u001b[0m     \u001b[1;31m# and should be considered private and subject to change.\u001b[0m\u001b[1;33m\u001b[0m\u001b[1;33m\u001b[0m\u001b[0m\n\u001b[1;32m---> 58\u001b[1;33m     \u001b[1;32mfrom\u001b[0m \u001b[1;33m.\u001b[0m \u001b[1;32mimport\u001b[0m \u001b[0m_imaging\u001b[0m \u001b[1;32mas\u001b[0m \u001b[0mcore\u001b[0m\u001b[1;33m\u001b[0m\u001b[0m\n\u001b[0m\u001b[0;32m     59\u001b[0m     \u001b[1;32mif\u001b[0m \u001b[0mPILLOW_VERSION\u001b[0m \u001b[1;33m!=\u001b[0m \u001b[0mgetattr\u001b[0m\u001b[1;33m(\u001b[0m\u001b[0mcore\u001b[0m\u001b[1;33m,\u001b[0m \u001b[1;34m'PILLOW_VERSION'\u001b[0m\u001b[1;33m,\u001b[0m \u001b[1;32mNone\u001b[0m\u001b[1;33m)\u001b[0m\u001b[1;33m:\u001b[0m\u001b[1;33m\u001b[0m\u001b[0m\n\u001b[0;32m     60\u001b[0m         raise ImportError(\"The _imaging extension was built for another \"\n",
      "\u001b[1;31mImportError\u001b[0m: DLL load failed: The specified module could not be found."
     ]
    }
   ],
   "source": [
    "import PIL\n",
    "from PIL import Image"
   ]
  },
  {
   "cell_type": "code",
   "execution_count": 18,
   "metadata": {},
   "outputs": [
    {
     "name": "stdout",
     "output_type": "stream",
     "text": [
      "Help on package PIL:\n",
      "\n",
      "NAME\n",
      "    PIL\n",
      "\n",
      "DESCRIPTION\n",
      "    # The Python Imaging Library.\n",
      "    # $Id$\n",
      "    #\n",
      "    # package placeholder\n",
      "    #\n",
      "    # Copyright (c) 1999 by Secret Labs AB.\n",
      "    #\n",
      "    # See the README file for information on usage and redistribution.\n",
      "    #\n",
      "\n",
      "PACKAGE CONTENTS\n",
      "    BdfFontFile\n",
      "    BmpImagePlugin\n",
      "    BufrStubImagePlugin\n",
      "    ContainerIO\n",
      "    CurImagePlugin\n",
      "    DcxImagePlugin\n",
      "    DdsImagePlugin\n",
      "    EpsImagePlugin\n",
      "    ExifTags\n",
      "    FitsStubImagePlugin\n",
      "    FliImagePlugin\n",
      "    FontFile\n",
      "    FpxImagePlugin\n",
      "    FtexImagePlugin\n",
      "    GbrImagePlugin\n",
      "    GdImageFile\n",
      "    GifImagePlugin\n",
      "    GimpGradientFile\n",
      "    GimpPaletteFile\n",
      "    GribStubImagePlugin\n",
      "    Hdf5StubImagePlugin\n",
      "    IcnsImagePlugin\n",
      "    IcoImagePlugin\n",
      "    ImImagePlugin\n",
      "    Image\n",
      "    ImageChops\n",
      "    ImageCms\n",
      "    ImageColor\n",
      "    ImageDraw\n",
      "    ImageDraw2\n",
      "    ImageEnhance\n",
      "    ImageFile\n",
      "    ImageFilter\n",
      "    ImageFont\n",
      "    ImageGrab\n",
      "    ImageMath\n",
      "    ImageMode\n",
      "    ImageMorph\n",
      "    ImageOps\n",
      "    ImagePalette\n",
      "    ImagePath\n",
      "    ImageQt\n",
      "    ImageSequence\n",
      "    ImageShow\n",
      "    ImageStat\n",
      "    ImageTk\n",
      "    ImageTransform\n",
      "    ImageWin\n",
      "    ImtImagePlugin\n",
      "    IptcImagePlugin\n",
      "    Jpeg2KImagePlugin\n",
      "    JpegImagePlugin\n",
      "    JpegPresets\n",
      "    McIdasImagePlugin\n",
      "    MicImagePlugin\n",
      "    MpegImagePlugin\n",
      "    MpoImagePlugin\n",
      "    MspImagePlugin\n",
      "    OleFileIO\n",
      "    PSDraw\n",
      "    PaletteFile\n",
      "    PalmImagePlugin\n",
      "    PcdImagePlugin\n",
      "    PcfFontFile\n",
      "    PcxImagePlugin\n",
      "    PdfImagePlugin\n",
      "    PixarImagePlugin\n",
      "    PngImagePlugin\n",
      "    PpmImagePlugin\n",
      "    PsdImagePlugin\n",
      "    PyAccess\n",
      "    SgiImagePlugin\n",
      "    SpiderImagePlugin\n",
      "    SunImagePlugin\n",
      "    TarIO\n",
      "    TgaImagePlugin\n",
      "    TiffImagePlugin\n",
      "    TiffTags\n",
      "    WalImageFile\n",
      "    WebPImagePlugin\n",
      "    WmfImagePlugin\n",
      "    XVThumbImagePlugin\n",
      "    XbmImagePlugin\n",
      "    XpmImagePlugin\n",
      "    _binary\n",
      "    _imaging\n",
      "    _imagingft\n",
      "    _imagingmath\n",
      "    _imagingmorph\n",
      "    _imagingtk\n",
      "    _tkinter_finder\n",
      "    _util\n",
      "    features\n",
      "    version\n",
      "\n",
      "DATA\n",
      "    PILLOW_VERSION = '5.0.0'\n",
      "    VERSION = '1.1.7'\n",
      "\n",
      "VERSION\n",
      "    5.0.0\n",
      "\n",
      "FILE\n",
      "    c:\\users\\karti\\anaconda3\\lib\\site-packages\\pil\\__init__.py\n",
      "\n",
      "\n"
     ]
    }
   ],
   "source": []
  },
  {
   "cell_type": "markdown",
   "metadata": {},
   "source": []
  }
 ],
 "metadata": {
  "kernelspec": {
   "display_name": "Python 3",
   "language": "python",
   "name": "python3"
  },
  "language_info": {
   "codemirror_mode": {
    "name": "ipython",
    "version": 3
   },
   "file_extension": ".py",
   "mimetype": "text/x-python",
   "name": "python",
   "nbconvert_exporter": "python",
   "pygments_lexer": "ipython3",
   "version": "3.6.3"
  }
 },
 "nbformat": 4,
 "nbformat_minor": 2
}
